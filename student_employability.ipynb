{
 "cells": [
  {
   "cell_type": "markdown",
   "id": "72e5095e",
   "metadata": {},
   "source": [
    "## Scraping for data"
   ]
  },
  {
   "cell_type": "code",
   "execution_count": 7,
   "id": "ddb92a7c",
   "metadata": {},
   "outputs": [],
   "source": [
    "#request and get information from lse website\n",
    "import requests\n",
    "\n",
    "url = \"https://public.tableau.com/app/profile/lsecareers/viz/What_do_LSE_graduates_do/LSEGraduateOutcomes\"\n",
    "r = requests.get(url)"
   ]
  },
  {
   "cell_type": "code",
   "execution_count": 8,
   "id": "14c1ab7f",
   "metadata": {},
   "outputs": [
    {
     "data": {
      "text/plain": [
       "['html',\n",
       " <html lang=\"en\"><head><script charset=\"UTF-8\" data-domain-script=\"2d08f29e-0ede-4e8c-997c-f7ef5be8d4e7\" id=\"one-trust-script\" src=\"https://a.sfdcstatic.com/enterprise/tableau/prod/6170/v1/oneTrust/scripttemplates/otSDKStub.js\"></script><script>(function(w,d,s,l,i){w[l]=w[l]||[];w[l].push({'gtm.start':\n",
       " new Date().getTime(),event:'gtm.js'});var f=d.getElementsByTagName(s)[0],\n",
       " j=d.createElement(s),dl=l!='dataLayer'?'&l='+l:'';j.async=true;j.src=\n",
       " 'https://www.googletagmanager.com/gtm.js?id='+i+dl;f.parentNode.insertBefore(j,f);\n",
       " })(window,document,'script','dataLayer','GTM-WP98PN');</script><meta charset=\"utf-8\"/><link href=\"/app/favicon.ico\" rel=\"icon\"/><meta content=\"width=device-width,initial-scale=1\" name=\"viewport\"/><meta content=\"origin-when-cross-origin\" name=\"referrer\"/> <script crossorigin=\"\" src=\"/app/assets/index.92ced4cb.js\" type=\"module\"></script>\n",
       " <link href=\"/app/assets/index.ae726f09.css\" rel=\"stylesheet\"/>\n",
       " </head><body><noscript><iframe height=\"0\" src=\"https://www.googletagmanager.com/ns.html?id=GTM-WP98PN\" style=\"display:none;visibility:hidden\" width=\"0\"></iframe></noscript><noscript>You need to enable JavaScript to run this app.</noscript><script src=\"https://cdn.polyfill.io/v2/polyfill.min.js\"></script><div id=\"root\"></div></body></html>]"
      ]
     },
     "execution_count": 8,
     "metadata": {},
     "output_type": "execute_result"
    }
   ],
   "source": [
    "#parse the website with BeautifulSoup\n",
    "from bs4 import BeautifulSoup\n",
    "\n",
    "soup = BeautifulSoup(r.content,'html')\n",
    "soup.contents"
   ]
  },
  {
   "cell_type": "code",
   "execution_count": 16,
   "id": "e4a4d5bb",
   "metadata": {},
   "outputs": [
    {
     "name": "stdout",
     "output_type": "stream",
     "text": [
      "WORKSHEET NAME : Response rates (aggregated)\n",
      "Empty DataFrame\n",
      "Columns: []\n",
      "Index: []\n",
      "WORKSHEET NAME : Employers\n",
      "Empty DataFrame\n",
      "Columns: []\n",
      "Index: []\n",
      "WORKSHEET NAME : Industries\n",
      "Empty DataFrame\n",
      "Columns: []\n",
      "Index: []\n",
      "WORKSHEET NAME : Example job titles\n",
      "Empty DataFrame\n",
      "Columns: []\n",
      "Index: []\n",
      "WORKSHEET NAME : Alumni working locations\n",
      "Empty DataFrame\n",
      "Columns: []\n",
      "Index: []\n",
      "WORKSHEET NAME : Salaries_web\n",
      "Empty DataFrame\n",
      "Columns: []\n",
      "Index: []\n",
      "WORKSHEET NAME : Activity (aggregated)\n",
      "Empty DataFrame\n",
      "Columns: []\n",
      "Index: []\n"
     ]
    }
   ],
   "source": [
    "from tableauscraper import TableauScraper as TS\n",
    "\n",
    "url = \"https://public.tableau.com/views/What_do_LSE_graduates_do/LSEGraduateOutcomes\"\n",
    "\n",
    "ts = TS()\n",
    "ts.loads(url)\n",
    "workbook = ts.getWorkbook()\n",
    "\n",
    "for t in workbook.worksheets:\n",
    "    print(f\"WORKSHEET NAME : {t.name}\")\n",
    "    print(t.data)"
   ]
  },
  {
   "cell_type": "code",
   "execution_count": null,
   "id": "d396dc14",
   "metadata": {},
   "outputs": [],
   "source": []
  }
 ],
 "metadata": {
  "kernelspec": {
   "display_name": "Python 3 (ipykernel)",
   "language": "python",
   "name": "python3"
  },
  "language_info": {
   "codemirror_mode": {
    "name": "ipython",
    "version": 3
   },
   "file_extension": ".py",
   "mimetype": "text/x-python",
   "name": "python",
   "nbconvert_exporter": "python",
   "pygments_lexer": "ipython3",
   "version": "3.9.12"
  }
 },
 "nbformat": 4,
 "nbformat_minor": 5
}
